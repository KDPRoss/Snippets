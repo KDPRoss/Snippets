{
 "cells": [
  {
   "cell_type": "markdown",
   "id": "70e46675",
   "metadata": {},
   "source": [
    "Here's a Motmot/Jupyter notebook demonstrating, well, that we have a Jupyter kernal ... and can do Awk-y things (but in a decent language; that said, the `[% ... ]` string processing is *clearly* Awk-inspired)."
   ]
  },
  {
   "cell_type": "markdown",
   "id": "f18c306c",
   "metadata": {},
   "source": [
    "Here's some example data; we'll inline it in the notebook rather than loading a file:"
   ]
  },
  {
   "cell_type": "code",
   "execution_count": 1,
   "id": "5bbbfa8f",
   "metadata": {},
   "outputs": [
    {
     "name": "stdout",
     "output_type": "stream",
     "text": []
    }
   ],
   "source": [
    "stringdata csv\n",
    "Username,Identifier,First name,Last name\n",
    "booker12,9012,Rachel,Booker\n",
    "grey07,2070,Laura,Grey\n",
    "johnson81,4081,Craig,Johnson\n",
    "jenkins46,9346,Mary,Jenkins\n",
    "smith79,5079,Jamie,Smith"
   ]
  },
  {
   "cell_type": "markdown",
   "id": "103b7ac4",
   "metadata": {},
   "source": [
    "Let's first get a list of first-last names, sorted by last name:"
   ]
  },
  {
   "cell_type": "code",
   "execution_count": 2,
   "id": "1e2ff4de",
   "metadata": {},
   "outputs": [
    {
     "name": "stdout",
     "output_type": "stream",
     "text": [
      "parsed: `csv |> drop 1 >> map sc >> Prelude.Extended.sort-by-key [% %4 ] >> map [% $#{%3} #{%4}$ ] >> iter print{ String }`\n",
      "has type: `()`\n",
      "PRINT Rachel Booker\n",
      "PRINT Laura Grey\n",
      "PRINT Mary Jenkins\n",
      "PRINT Craig Johnson\n",
      "PRINT Jamie Smith\n",
      "linearised: ()"
     ]
    }
   ],
   "source": [
    "csv |>\n",
    "  drop 1 >>\n",
    "  map sc >>\n",
    "  Prelude.Extended.sort-by-key [% %4 ] >>\n",
    "  map [% $#{%3} #{%4}$ ] >>\n",
    "  iter print{ String }"
   ]
  },
  {
   "cell_type": "markdown",
   "id": "c8c15043",
   "metadata": {},
   "source": [
    "Get a sum of the identifiers:"
   ]
  },
  {
   "cell_type": "code",
   "execution_count": 3,
   "id": "3db6ff15",
   "metadata": {},
   "outputs": [
    {
     "name": "stdout",
     "output_type": "stream",
     "text": [
      "parsed: `csv |> drop 1 >> map (sc >> [% read{ Num } %2 ]) >> sum >> print`\n",
      "has type: `()`\n",
      "PRINT 29588\n",
      "linearised: ()"
     ]
    }
   ],
   "source": [
    "csv |>\n",
    "  drop 1 >>\n",
    "  map (\n",
    "    sc >>\n",
    "    [% read{ Num } %2 ]\n",
    "  ) >>\n",
    "  sum >>\n",
    "  print"
   ]
  },
  {
   "cell_type": "markdown",
   "id": "5e0d0c5e",
   "metadata": {},
   "source": [
    "Re-order the columns to last name, first name, username, ident:"
   ]
  },
  {
   "cell_type": "code",
   "execution_count": 4,
   "id": "83bedb5a",
   "metadata": {},
   "outputs": [
    {
     "name": "stdout",
     "output_type": "stream",
     "text": [
      "parsed: `csv |> map (sc >> [% [ %4, %3, %1, %2 ] ] >> jc) >> iter print{ String }`\n",
      "has type: `()`\n",
      "PRINT Last name,First name,Username,Identifier\n",
      "PRINT Booker,Rachel,booker12,9012\n",
      "PRINT Grey,Laura,grey07,2070\n",
      "PRINT Johnson,Craig,johnson81,4081\n",
      "PRINT Jenkins,Mary,jenkins46,9346\n",
      "PRINT Smith,Jamie,smith79,5079\n",
      "linearised: ()"
     ]
    }
   ],
   "source": [
    "csv |>\n",
    "  map (\n",
    "    sc >>\n",
    "    [% [ %4, %3, %1, %2 ] ] >>\n",
    "    jc\n",
    "  ) >>\n",
    "  iter print{ String }"
   ]
  },
  {
   "cell_type": "markdown",
   "id": "1d2806b7",
   "metadata": {},
   "source": [
    "Lowercase names and remove numbers from usernames:"
   ]
  },
  {
   "cell_type": "code",
   "execution_count": 5,
   "id": "48013970",
   "metadata": {},
   "outputs": [
    {
     "name": "stdout",
     "output_type": "stream",
     "text": [
      "parsed: `lines |> map (sc >> [% [ dr $[0-9]+#{dollar}$ %1, %2, lowercase %3, lowercase %4 ] ] >> jc) >> (header :: _) >> iter print{ String } where ((header : String) :: (lines : [ String ])) = csv`\n",
      "has type: `()`\n",
      "PRINT Username,Identifier,First name,Last name\n",
      "PRINT booker,9012,rachel,booker\n",
      "PRINT grey,2070,laura,grey\n",
      "PRINT johnson,4081,craig,johnson\n",
      "PRINT jenkins,9346,mary,jenkins\n",
      "PRINT smith,5079,jamie,smith\n",
      "linearised: ()"
     ]
    }
   ],
   "source": [
    "lines |>\n",
    "  map (\n",
    "    sc >>\n",
    "    [% [\n",
    "      dr $[0-9]+#{dollar}$ %1,\n",
    "      %2,\n",
    "      lowercase %3,\n",
    "      lowercase %4\n",
    "    ] ] >>\n",
    "    jc\n",
    "  ) >>\n",
    "  (header :: _) >>\n",
    "  iter print{ String }\n",
    "where ((header : String) :: (lines : [ String ])) = csv"
   ]
  },
  {
   "cell_type": "markdown",
   "id": "a6287e1d",
   "metadata": {},
   "source": [
    "Change columnar data to row data:"
   ]
  },
  {
   "cell_type": "code",
   "execution_count": 6,
   "id": "84816b70",
   "metadata": {},
   "outputs": [
    {
     "name": "stdout",
     "output_type": "stream",
     "text": [
      "parsed: `csv |> map sc >> transpose >> map jc >> iter print{ String }`\n",
      "has type: `()`\n",
      "PRINT Username,booker12,grey07,johnson81,jenkins46,smith79\n",
      "PRINT Identifier,9012,2070,4081,9346,5079\n",
      "PRINT First name,Rachel,Laura,Craig,Mary,Jamie\n",
      "PRINT Last name,Booker,Grey,Johnson,Jenkins,Smith\n",
      "linearised: ()"
     ]
    }
   ],
   "source": [
    "csv |>\n",
    "  map sc >>\n",
    "  transpose >>\n",
    "  map jc >>\n",
    "  iter print{ String }"
   ]
  },
  {
   "cell_type": "markdown",
   "id": "565e85a5",
   "metadata": {},
   "source": [
    "Randomly permute the column values:"
   ]
  },
  {
   "cell_type": "code",
   "execution_count": 7,
   "id": "8f52c898",
   "metadata": {},
   "outputs": [
    {
     "name": "stdout",
     "output_type": "stream",
     "text": [
      "parsed: `lines |> map sc >> transpose >> map shuffle{ String } >> transpose >> map jc >> (header :: _) >> iter print{ String } where ((header : String) :: (lines : [ String ])) = csv`\n",
      "has type: `()`\n",
      "PRINT Username,Identifier,First name,Last name\n",
      "PRINT smith79,9012,Jamie,Jenkins\n",
      "PRINT jenkins46,5079,Laura,Johnson\n",
      "PRINT booker12,9346,Mary,Smith\n",
      "PRINT johnson81,2070,Rachel,Grey\n",
      "PRINT grey07,4081,Craig,Booker\n",
      "linearised: ()"
     ]
    }
   ],
   "source": [
    "lines |>\n",
    "  map sc >>\n",
    "  transpose >>\n",
    "  map shuffle{ String } >>\n",
    "  transpose >>\n",
    "  map jc >>\n",
    "  (header :: _) >>\n",
    "  iter print{ String }\n",
    "where ((header : String) :: (lines : [ String ])) = csv"
   ]
  }
 ],
 "metadata": {
  "kernelspec": {
   "display_name": "Motmot",
   "language": "",
   "name": "motmot-kernel"
  },
  "language_info": {
   "file_extension": ".txt",
   "mimetype": "text/plain",
   "name": "Motmot"
  }
 },
 "nbformat": 4,
 "nbformat_minor": 5
}
