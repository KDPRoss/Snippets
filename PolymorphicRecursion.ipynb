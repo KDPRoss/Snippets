{
 "cells": [
  {
   "cell_type": "markdown",
   "id": "confused-signature",
   "metadata": {},
   "source": [
    "Polymorphic recursion in Motmot based on examples from\n",
    "‘Programming Examples Needing Polymorphic Recursion’\n",
    "(J.J.Hallett and A.J.Kfoury, 2004)\n",
    "\n",
    "This is also a demonstration / test of the Motmot Jupyter\n",
    "kernel.\n",
    "\n",
    "Copyright 2020-2021 K.D.P.Ross <KDPRoss@gmail.com>\n",
    "\n",
    "This code is licensed only for study and personal\n",
    "enrichment.\n",
    "\n",
    "Relevant resources:\n",
    "- [the original paper](https://tinyurl.com/y49cupss)"
   ]
  },
  {
   "cell_type": "code",
   "execution_count": 1,
   "id": "mathematical-developer",
   "metadata": {},
   "outputs": [
    {
     "name": "stdout",
     "output_type": "stream",
     "text": [
      "parsed: `(f $foo$, g 1) where (double : a => (a -> a) -> a -> a) = a => (f : a -> a) ~ (x : a) ~ f (f x) | (f : String -> String) = double (_ # $+1$) | (g : Num -> Num) = double (_ + 1)`\n",
      "has type: `(String, Num)`\n",
      "linearised: ($foo+1+1$, 3)"
     ]
    }
   ],
   "source": [
    "-- ‘Double (Coupled)’ (§3.1.1)\n",
    "\n",
    "(f $foo$, g 1)\n",
    "where (double : a => (a -> a) -> a -> a) =\n",
    "  a => (f : a -> a) ~ (x : a) ~\n",
    "    f (f x)\n",
    "| (f : String -> String) =\n",
    "  double (_ # $+1$)\n",
    "| (g : Num -> Num) =\n",
    "  double (_ + 1)"
   ]
  },
  {
   "cell_type": "code",
   "execution_count": 2,
   "id": "laden-techno",
   "metadata": {},
   "outputs": [
    {
     "name": "stdout",
     "output_type": "stream",
     "text": [
      "parsed: `(sq-list [ 2, 4 ], comp-list [ True, False ]) where (my-map : a => (a -> a) -> [ a ] -> [ a ]) = a => (f : a -> a) ~ (l : [ a ]) ~ if empty? l then l else f (head l) :: my-map f (tail l) | (sq-list : [ Num ] -> [ Num ]) = my-map (_ pow 2) | (comp-list : [ Bool ] -> [ Bool ]) = my-map not`\n",
      "has type: `([ Num ], [ Bool ])`\n",
      "linearised: ([ 4, 16 ], [ False, True ])\n",
      "\n",
      "parsed: `(sq-list [ 2, 4 ], comp-list [ True, False ]) where (my-map : a => (a -> a) -> [ a ] -> [ a ]) = a => (f : a -> a) ~ case of ([{ a }] ~ [{ a }]) ((x : a) :: (xs : [ a ]) ~ f x :: my-map f xs) | (sq-list : [ Num ] -> [ Num ]) = my-map (_ pow 2) | (comp-list : [ Bool ] -> [ Bool ]) = my-map not`\n",
      "has type: `([ Num ], [ Bool ])`\n",
      "linearised: ([ 4, 16 ], [ False, True ])"
     ]
    }
   ],
   "source": [
    "-- ‘Mycroft (Coupled)’ (§3.2.1)\n",
    "\n",
    "(sq-list [ 2, 4 ], comp-list [ True, False ])\n",
    "where (my-map : a => (a -> a) -> [ a ] -> [ a ]) =\n",
    "  a => (f : a -> a) ~ (l : [ a ]) ~\n",
    "    if empty? l\n",
    "       then l\n",
    "       else f (head l) :: my-map f (tail l)\n",
    "| (sq-list : [ Num ] -> [ Num ]) =\n",
    "  my-map (_ pow 2)\n",
    "| (comp-list : [ Bool ] -> [ Bool ]) =\n",
    "  my-map not\n",
    "  \n",
    "-- Here's a more Motmotastic pattern-matching version:\n",
    "\n",
    "(sq-list [ 2, 4 ], comp-list [ True, False ])\n",
    "where (my-map : a => (a -> a) -> [ a ] -> [ a ]) =\n",
    "  a => (f : a -> a) ~\n",
    "    case of\n",
    "    ([{ a }]                 ~ [{ a }])\n",
    "    ((x : a) :: (xs : [ a ]) ~ f x :: my-map f xs)\n",
    "| (sq-list : [ Num ] -> [ Num ]) =\n",
    "  my-map (_ pow 2)\n",
    "| (comp-list : [ Bool ] -> [ Bool ]) =\n",
    "  my-map not"
   ]
  },
  {
   "cell_type": "code",
   "execution_count": 3,
   "id": "initial-naples",
   "metadata": {},
   "outputs": [
    {
     "name": "stdout",
     "output_type": "stream",
     "text": [
      "parsed: `sum-list [ 1 .. 3 ] where (id : a => a -> a) = a => (x : a) ~ x | (sum-list : [ Num ] -> Num) = (l : [ Num ]) ~ if empty? l then 0 else id (head l) + sum-list (id (tail l))`\n",
      "has type: `Num`\n",
      "linearised: 6\n",
      "\n",
      "parsed: `sum-list [ 1 .. 3 ] where (id : a => a -> a) = a => (x : a) ~ x | (sum-list : [ Num ] -> Num) = case of ([{ Num }] ~ 0) ((x : Num) :: (xs : [ Num ]) ~ id x + sum-list (id xs))`\n",
      "has type: `Num`\n",
      "linearised: 6"
     ]
    }
   ],
   "source": [
    "-- ‘Sum List’ (§3.3)\n",
    "\n",
    "sum-list [ 1 .. 3 ]\n",
    "where (id : a => a -> a) =\n",
    "  a => (x : a) ~ x\n",
    "| (sum-list : [ Num ] -> Num) =\n",
    "  (l : [ Num ]) ~\n",
    "    if empty? l\n",
    "       then 0\n",
    "       else id (head l) + sum-list (id (tail l))\n",
    "\n",
    "-- Here's a more Motmotastic clausal version:\n",
    "\n",
    "sum-list [ 1 .. 3 ]\n",
    "where (id : a => a -> a) =\n",
    "  a => (x : a) ~ x\n",
    "| (sum-list : [ Num ] -> Num) =\n",
    "  case of\n",
    "  ([{ Num }]                   ~ 0)\n",
    "  ((x : Num) :: (xs : [ Num ]) ~ id x + sum-list (id xs))"
   ]
  },
  {
   "cell_type": "code",
   "execution_count": 4,
   "id": "important-radius",
   "metadata": {},
   "outputs": [
    {
     "name": "stdout",
     "output_type": "stream",
     "text": [
      "parsed: `app-comp 5 [ 5 ] where (create-list : a => a -> [ a ]) = a => (x : a) ~ [ x ] | (remove-list : a => [ a ] -> a) = a => ((x : a) :: (_ : [ a ])) ~ x | (comp : (a, b, c) => (b -> c) -> (a -> b) -> a -> c) = (a, b, c) => (g : b -> c) ~ (f : a -> b) ~ (x : a) ~ g (f x) | (app-comp : a => a -> [ a ] -> Bool) = a => (x : a) ~ (xs : [ a ]) ~ comp remove-list{ a } create-list{ a } x == head (comp create-list{ a } remove-list{ a } xs)`\n",
      "has type: `Bool`\n",
      "linearised: True"
     ]
    }
   ],
   "source": [
    "-- ‘Isomorphic Composition’ (§3.4)\n",
    "\n",
    "app-comp 5 [ 5 ]\n",
    "where (create-list : a => a -> [ a ]) =\n",
    "  a => (x : a) ~ [ x ]\n",
    "| (remove-list : a => [ a ] -> a) =\n",
    "  a => ((x : a) :: (_ : [ a ])) ~ x\n",
    "| (comp : (a, b, c) => (b -> c) -> (a -> b) -> a -> c) =\n",
    "  (a, b, c) => (g : b -> c) ~ (f : a -> b) ~ (x : a) ~ g (f x)\n",
    "| (app-comp : a => a -> [ a ] -> Bool) =\n",
    "  a => (x : a) ~ (xs : [ a ]) ~\n",
    "    comp remove-list{ a } create-list{ a } x == head (comp create-list{ a } remove-list{ a } xs)      "
   ]
  },
  {
   "cell_type": "code",
   "execution_count": 5,
   "id": "divided-therapy",
   "metadata": {},
   "outputs": [
    {
     "name": "stdout",
     "output_type": "stream",
     "text": [
      "parsed: `map' map [ [ 1, 2 ], [ 3, 4 ] ] where (map' : a => ((a, b) => (a -> b) -> [ a ] -> [ b ]) -> [ [ a ] ] -> [ [ a ] ]) = a => (f : (a, b) => (a -> b) -> [ a ] -> [ b ]) ~ (l : [ [ a ] ]) ~ if empty? l then [{ [ a ] }] else (if empty? (head l) then [{ [ a ] }] else f head{ a } l :: map' f (f tail{ a } l))`\n",
      "has type: `[ [ Num ] ]`\n",
      "linearised: [ [ 1, 3 ], [ 2, 4 ] ]\n",
      "\n",
      "parsed: `map' map [ [ 1, 2 ], [ 3, 4 ] ] where (map' : a => ((a, b) => (a -> b) -> [ a ] -> [ b ]) -> [ [ a ] ] -> [ [ a ] ]) = a => (f : (a, b) => (a -> b) -> [ a ] -> [ b ]) ~ case of ([ [{ a }] ] or [{ a }] :: (_ : [ [ a ] ]) ~ [{ [ a ] }]) ((l : [ [ a ] ]) ~ f head{ a } l :: map' f (f tail{ a } l))`\n",
      "has type: `[ [ Num ] ]`\n",
      "linearised: [ [ 1, 3 ], [ 2, 4 ] ]"
     ]
    }
   ],
   "source": [
    "-- ‘Matrix Transpose’ (§4.1.1)\n",
    "\n",
    "map' map [ [ 1, 2 ], [ 3, 4 ] ]\n",
    "where (map' : a => ((a, b) => (a -> b) -> [ a ] -> [ b ]) -> [ [ a ] ] -> [ [ a ] ]) =\n",
    "  a => (f : (a, b) => (a -> b) -> [ a ] -> [ b ]) ~ (l : [ [ a ] ]) ~\n",
    "    if empty? l\n",
    "       then [{ [ a ] }]\n",
    "       else (if empty? (head l)\n",
    "                then [{ [ a ] }]\n",
    "                else f head{ a } l :: map' f (f tail{ a } l)\n",
    "            )\n",
    "            \n",
    "-- Here's a more Motmotastic pattern-matching version:\n",
    "\n",
    "map' map [ [ 1, 2 ], [ 3, 4 ] ]\n",
    "where (map' : a => ((a, b) => (a -> b) -> [ a ] -> [ b ]) -> [ [ a ] ] -> [ [ a ] ]) =\n",
    "  a => (f : (a, b) => (a -> b) -> [ a ] -> [ b ]) ~\n",
    "    case of\n",
    "    ([ [{ a }] ] or\n",
    "     [{ a }] :: (_ : [ [ a ] ]) ~ [{ [ a ] }])\n",
    "    ((l : [ [ a ] ])            ~ f head{ a } l :: map' f (f tail{ a } l))"
   ]
  },
  {
   "cell_type": "code",
   "execution_count": 9,
   "id": "banner-panel",
   "metadata": {},
   "outputs": [
    {
     "name": "stdout",
     "output_type": "stream",
     "text": [
      "parsed: `axiom T : * -> *`\n",
      "Type constructor `T`'s kind binding was created / updated.\n",
      "\n",
      "parsed: `axiom Empty : a => T a`\n",
      "Value constructor `Empty`'s type binding was created / updated.\n",
      "\n",
      "parsed: `axiom Node : a => a -> T (T a) -> T a`\n",
      "Value constructor `Node`'s type binding was created / updated.\n",
      "\n",
      "parsed: `collect (Node 3 (Node (Node 4 Empty{ T Num }) Empty{ T (T Num) })) where (collect : a => T a -> [ a ]) = a => case of (Empty{ a } ~ [{ a }]) (Node (n : a) (t : T (T a)) ~ n :: (concat-map collect{ a } (collect t)))`\n",
      "has type: `[ Num ]`\n",
      "linearised: [ 3, 4 ]\n",
      "\n",
      "parsed: `collect (Node 3 (Node (Node 4 Empty{ T Num }) Empty{ T (T Num) })) where (collect : a => T a -> [ a ]) = a => case of (Empty{ a } ~ [{ a }]) ((Node (n : a) (t : T (T a))) ~ n :: (concat-map collect{ a } (collect t)))`\n",
      "has type: `[ Num ]`\n",
      "linearised: [ 3, 4 ]"
     ]
    }
   ],
   "source": [
    "-- ‘Collect’ (§5.1)\n",
    "\n",
    "axiom T : * -> *\n",
    "axiom Empty : a => T a\n",
    "axiom Node : a => a -> T (T a) -> T a\n",
    "\n",
    "collect (Node 3 (Node (Node 4 Empty{ T Num }) Empty{ T (T Num) }))\n",
    "where (collect : a => T a -> [ a ]) =\n",
    "  a =>\n",
    "    case of\n",
    "    (Empty{ a }                 ~ [{ a }])\n",
    "    (Node (n : a) (t : T (T a)) ~ n :: (concat-map collect{ a } (collect t)))\n",
    "    \n",
    "-- Here's a more Motmotastic clausal version:\n",
    "\n",
    "collect (Node 3 (Node (Node 4 Empty{ T Num }) Empty{ T (T Num) }))\n",
    "where (collect : a => T a -> [ a ]) =\n",
    "  a =>\n",
    "    case of\n",
    "    (Empty{ a }                   ~ [{ a }])\n",
    "    ((Node (n : a) (t : T (T a))) ~ n :: (concat-map collect{ a } (collect t)))"
   ]
  },
  {
   "cell_type": "code",
   "execution_count": 7,
   "id": "colonial-mumbai",
   "metadata": {},
   "outputs": [
    {
     "name": "stdout",
     "output_type": "stream",
     "text": [
      "parsed: `bar 1 f a where (r : Num -> Bool) = (_ >= 4) | (f : Num -> Num) = (_ * 2) | (a : Num) = 5 | (bar : a => Num -> (a -> a) -> a -> a) = a => (x : Num) ~ (f' : a -> a) ~ (z : a) ~ if r x then f' z else bar{ a -> a } (f x) ((v : a -> a) ~ v >> v) f' z`\n",
      "has type: `Num`\n",
      "linearised: 80"
     ]
    }
   ],
   "source": [
    "-- ‘BAR’ (§5.2)\n",
    "\n",
    "bar 1 f a\n",
    "where (r : Num -> Bool) =\n",
    "  (_ >= 4)\n",
    "| (f : Num -> Num) =\n",
    "  (_ * 2)\n",
    "| (a : Num) =\n",
    "  5\n",
    "| (bar : a => Num -> (a -> a) -> a -> a) =\n",
    "  a => (x : Num) ~ (f' : a -> a) ~ (z : a) ~\n",
    "    if r x\n",
    "       then f' z\n",
    "       else bar{ a -> a } (f x) ((v : a -> a) ~ v >> v) f' z"
   ]
  },
  {
   "cell_type": "code",
   "execution_count": 8,
   "id": "hundred-transfer",
   "metadata": {},
   "outputs": [
    {
     "name": "stdout",
     "output_type": "stream",
     "text": [
      "parsed: `apply-cl [ 1 .. 3 ] [ True, False, True ] length where (cons-list : a => a -> Num -> [ a ]) = a => (x : a) ~ (n : Num) ~ if 0 == n then [ x, x ] else x :: tail (concat (cons-list (cons-list x (n - 1)) (n - 1))) | (apply-cl : (a, b) => [ a ] -> [ b ] -> (c => [ c ] -> Num) -> ([ [ a ] ], [ [ b ] ])) = (a, b) => (l1 : [ a ]) ~ (l2 : [ b ]) ~ (f : c => [ c ] -> Num) ~ (cons-list l1 (f l1), cons-list l2 (f l2))`\n",
      "has type: `([ [ Num ] ], [ [ Bool ] ])`\n",
      "linearised: ([ [ 1, 2, 3 ], [ 1, 2, 3 ], [ 1, 2, 3 ], [ 1, 2, 3 ], [ 1, 2, 3 ], ... ], [ [ True, False, True ], [ True, False, True ], [ True, False, True ], [ True, False, True ], [ True, False, True ], ... ])\n",
      "\n",
      "parsed: `apply-cl [ 1 .. 3 ] [ True, False, True ] length where (cons-list : a => a -> Num -> [ a ]) = a => case of ((x : a) | 0 ~ [ x, x ]) ((x : a) | (n : Num) ~ x :: tail (concat (cons-list (cons-list x (n - 1)) (n - 1)))) | (apply-cl : (a, b) => [ a ] -> [ b ] -> (c => [ c ] -> Num) -> ([ [ a ] ], [ [ b ] ])) = (a, b) => (l1 : [ a ]) ~ (l2 : [ b ]) ~ (f : c => [ c ] -> Num) ~ (cons-list l1 (f l1), cons-list l2 (f l2))`\n",
      "has type: `([ [ Num ] ], [ [ Bool ] ])`\n",
      "linearised: ([ [ 1, 2, 3 ], [ 1, 2, 3 ], [ 1, 2, 3 ], [ 1, 2, 3 ], [ 1, 2, 3 ], ... ], [ [ True, False, True ], [ True, False, True ], [ True, False, True ], [ True, False, True ], [ True, False, True ], ... ])"
     ]
    }
   ],
   "source": [
    "-- ‘Construct List’ (§6.1)\n",
    "\n",
    "apply-cl [ 1 .. 3 ] [ True, False, True ] length\n",
    "where (cons-list : a => a -> Num -> [ a ]) =\n",
    "  a => (x : a) ~ (n : Num) ~\n",
    "    if 0 == n\n",
    "       then [ x, x ]\n",
    "       else x :: tail (concat (cons-list (cons-list x (n - 1)) (n - 1)))\n",
    "| (apply-cl : (a, b) => [ a ] -> [ b ] -> (c => [ c ] -> Num) -> ([ [ a ] ], [ [ b ] ])) =\n",
    "  (a, b) => (l1 : [ a ]) ~ (l2 : [ b ]) ~ (f : c => [ c ] -> Num) ~\n",
    "    (cons-list l1 (f l1), cons-list l2 (f l2))\n",
    "\n",
    "-- Here's a more Motmotastic clausal version:\n",
    "\n",
    "apply-cl [ 1 .. 3 ] [ True, False, True ] length\n",
    "where (cons-list : a => a -> Num -> [ a ]) =\n",
    "  a =>\n",
    "    case of\n",
    "    ((x : a) | 0         ~ [ x, x ])\n",
    "    ((x : a) | (n : Num) ~ x :: tail (concat (cons-list (cons-list x (n - 1)) (n - 1))))\n",
    "| (apply-cl : (a, b) => [ a ] -> [ b ] -> (c => [ c ] -> Num) -> ([ [ a ] ], [ [ b ] ])) =\n",
    "  (a, b) => (l1 : [ a ]) ~ (l2 : [ b ]) ~ (f : c => [ c ] -> Num) ~\n",
    "    (cons-list l1 (f l1), cons-list l2 (f l2))"
   ]
  },
  {
   "cell_type": "code",
   "execution_count": null,
   "id": "091f1bfe",
   "metadata": {},
   "outputs": [],
   "source": []
  }
 ],
 "metadata": {
  "kernelspec": {
   "display_name": "Motmot",
   "language": "",
   "name": "motmot-kernel"
  },
  "language_info": {
   "file_extension": ".txt",
   "mimetype": "text/plain",
   "name": "Motmot"
  }
 },
 "nbformat": 4,
 "nbformat_minor": 5
}
