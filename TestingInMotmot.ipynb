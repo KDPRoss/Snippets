{
 "cells": [
  {
   "cell_type": "markdown",
   "metadata": {},
   "source": [
    "Copyright 2020-2025 K.D.P.Ross <KDPRoss@gmail.com>\n",
    "\n",
    "This code is licensed only for study and personal\n",
    "enrichment."
   ]
  },
  {
   "cell_type": "markdown",
   "metadata": {},
   "source": [
    "This is a brief demonstration of testing in Motmot. We'll\n",
    "consider both hand-written test cases (using the `Testing`\n",
    "library) and property-based cases (using the `QuickCheck`\n",
    "library)."
   ]
  },
  {
   "cell_type": "code",
   "execution_count": 1,
   "metadata": {},
   "outputs": [
    {
     "name": "stdout",
     "output_type": "stream",
     "text": [
      "│                                Welcome to Motmot\n",
      "│              Copyright 2015–2025, K.D.P.Ross <KDPRoss@gmail.com>\n",
      "│                       Designed in Paris; built in Tucson.\n",
      "│\n",
      "│                            T6=bee9081 | Libs=b54fac6\n",
      "│\n",
      "│                         :help / :h — Print REPL help.\n",
      "│                        :file / :f — Load a script file.\n",
      "│                       :quit / :q — Exit the interpreter.\n",
      "│                     :reset / :r — Reset interpreter state.\n",
      "│\n",
      "│ Libraries loaded.\n",
      "│   All.All, Chars.Diacritics, Chars.Extended, Chars.Inverse, Compute.Cache,\n",
      "│   Compute.Consts, Compute.Parallel, Compute.Tree, Compute.Units, Data.Table,\n",
      "│   Data.Table.Extended, Document.Rendering, Document.Structure, FileProcessing,\n",
      "│   Latex.Colour, Latex.Process, Monads, Monads.Config, Monads.TimeLimit,\n",
      "│   Parser, Parser.Extended, Prelude.doc, PreludeExtended.doc,\n",
      "│   Processing.Convenience, Processing.DSL, Processing.Quotes, Processing.TML,\n",
      "│   Processing.Text, Processing.Types, QuickCheck, QuickCheck.Extended,\n",
      "│   Rendering.Types, Syntax.Meta, Syntax.Punctuation, Syntax.Standard,\n",
      "│   System.Email, System.Git, Testing, Testing.Extended, ValidateParallel"
     ]
    }
   ],
   "source": [
    ":setup-notebook"
   ]
  },
  {
   "cell_type": "code",
   "execution_count": 2,
   "metadata": {
    "vscode": {
     "languageId": "python"
    }
   },
   "outputs": [
    {
     "name": "stdout",
     "output_type": "stream",
     "text": [
      "parsed: `wrap : Num -> String -> [ String ] = width : Num ~ words >> core [ [{ String }] ] where core : [ [ String ] ] -> [ String ] -> [ String ] = (res : [ [ String ] ] and cur : [ String ] :: rest : [ [ String ] ]) ~ fun ([{ String }] ~ res |> filter (empty?{ String } >> not) >> reverse >> map (reverse{ String } >> concat-words)) ((x : String and { length-string >> (_ >= width) }) :: xs : [ String ] ~ core ([ x ] :: res') xs where res' : [ [ String ] ] = drop-while empty?{ String } res) (xs : [ String ] and x : String :: _ : [ String ] and `{ length-line (x :: cur) > width } ~ core ([{ String }] :: res) xs) ((x : String) :: (xs : [ String ]) ~ core ((x :: cur) :: rest) xs) | length-line : [ String ] -> Num = xs : [ String ] ~ sum (map length-string xs) + (max 0 (length xs - 1))`\n",
      "has type: `Num -> String -> [ String ]`\n",
      "linearised: <fun>"
     ]
    }
   ],
   "source": [
    "-- We'll need something to test. Let's write a very simple\n",
    "-- greedy-algorithm word wrapper for this.\n",
    "wrap : Num -> String -> [ String ] =\n",
    "  width : Num ~\n",
    "    words >>\n",
    "    core [ [{ String }] ]\n",
    "  where core : [ [ String ] ] -> [ String ] -> [ String ] =\n",
    "          (res : [ [ String ] ] and cur : [ String ] :: rest : [ [ String ] ]) ~\n",
    "            fun\n",
    "            -- Base case: Nothing left to process; reverse the lines and\n",
    "            -- smoosh them together.\n",
    "            ([{ String }] ~\n",
    "               res |>\n",
    "                 filter (\n",
    "                   empty?{ String } >>\n",
    "                   not\n",
    "                 ) >> reverse >>\n",
    "                 map (\n",
    "                   reverse{ String } >>\n",
    "                   concat-words\n",
    "                 )\n",
    "            )\n",
    "            -- Fun edge case: If we've a single word longer than the\n",
    "            -- length, put it alone on a line.\n",
    "            ((x : String and { length-string >> (_ >= width) }) :: xs : [ String ] ~\n",
    "               core ([ x ] :: res') xs\n",
    "               where res' : [ [ String ] ] = drop-while empty?{ String } res\n",
    "            )\n",
    "            -- Know: Still words to be processed; if line would be too\n",
    "            -- long, create another one.\n",
    "            (xs : [ String ] and x : String :: _ : [ String ] and `{ length-line (x :: cur) > width } ~\n",
    "               core ([{ String }] :: res) xs\n",
    "            )\n",
    "            -- Ordinary case; keep chugging.\n",
    "            ((x : String) :: (xs : [ String ]) ~ core ((x :: cur) :: rest) xs)\n",
    "      | length-line : [ String ] -> Num =\n",
    "          xs : [ String ] ~\n",
    "            sum (map length-string xs) + (max 0 (length xs - 1))"
   ]
  },
  {
   "cell_type": "code",
   "execution_count": 3,
   "metadata": {
    "vscode": {
     "languageId": "python"
    }
   },
   "outputs": [
    {
     "name": "stdout",
     "output_type": "stream",
     "text": []
    }
   ],
   "source": [
    "string-input some-text\n",
    "wrap : Num -> String -> [ String ] =\n",
    "  width : Num ~\n",
    "    words >>\n",
    "    core [ [{ String }] ]\n",
    "  where core : [ [ String ] ] -> [ String ] -> [ String ] =\n",
    "          (res : [ [ String ] ] and cur : [ String ] :: rest : [ [ String ] ]) ~\n",
    "            fun\n",
    "            ([{ String }] ~\n",
    "               res |>\n",
    "                 filter (\n",
    "                   empty?{ String } >>\n",
    "                   not\n",
    "                 ) >> reverse >>\n",
    "                 map (\n",
    "                   reverse{ String } >>\n",
    "                   concat-words\n",
    "                 )\n",
    "            )\n",
    "            ((x : String and {length-string >> (_ >= width)}) :: xs : [ String ] ~\n",
    "               core ([ x ] :: res') xs\n",
    "               where res' : [ [ String ] ] = drop-while empty?{ String } res\n",
    "            )\n",
    "            (xs : [ String ] and x : String :: _ : [ String ] and `{length-line (x :: cur) > width} ~\n",
    "               core ([{ String }] :: res) xs\n",
    "            )\n",
    "            ((x : String) :: (xs : [ String ]) ~ core ((x :: cur) :: rest) xs)\n",
    "      | length-line : [ String ] -> Num =\n",
    "          xs : [ String ] ~\n",
    "            sum (map length-string xs) + (max 0 (length xs - 1))"
   ]
  },
  {
   "cell_type": "code",
   "execution_count": 4,
   "metadata": {
    "vscode": {
     "languageId": "python"
    }
   },
   "outputs": [
    {
     "name": "stdout",
     "output_type": "stream",
     "text": [
      "parsed: `some-text |> concat-words >> wrap 60 >> iter print{ String }`\n",
      "has type: `()`\n",
      "PRINT wrap : Num -> String -> [ String ] = width : Num ~ words >>\n",
      "PRINT core [ [{ String }] ] where core : [ [ String ] ] -> [\n",
      "PRINT String ] -> [ String ] = (res : [ [ String ] ] and cur : [\n",
      "PRINT String ] :: rest : [ [ String ] ]) ~ fun ([{ String }] ~ res\n",
      "PRINT |> filter ( empty?{ String } >> not ) >> reverse >> map (\n",
      "PRINT reverse{ String } >> concat-words ) ) ((x : String and\n",
      "PRINT {length-string >> (_ >= width)}) :: xs : [ String ] ~ core\n",
      "PRINT ([ x ] :: res') xs where res' : [ [ String ] ] = drop-while\n",
      "PRINT empty?{ String } res ) (xs : [ String ] and x : String :: _\n",
      "PRINT : [ String ] and `{length-line (x :: cur) > width} ~ core\n",
      "PRINT ([{ String }] :: res) xs ) ((x : String) :: (xs : [ String\n",
      "PRINT ]) ~ core ((x :: cur) :: rest) xs) | length-line : [ String\n",
      "PRINT ] -> Num = xs : [ String ] ~ sum (map length-string xs) +\n",
      "PRINT (max 0 (length xs - 1))\n",
      "linearised: ()"
     ]
    }
   ],
   "source": [
    "-- What could be more fun than using some code to wrap\n",
    "-- itself?\n",
    "some-text |>\n",
    "  concat-words >>\n",
    "  wrap 60 >>\n",
    "  iter print{ String }"
   ]
  },
  {
   "cell_type": "code",
   "execution_count": 5,
   "metadata": {
    "vscode": {
     "languageId": "python"
    }
   },
   "outputs": [
    {
     "name": "stdout",
     "output_type": "stream",
     "text": []
    }
   ],
   "source": [
    "-- Great, now, we can get to testing. Let's first import the\n",
    "-- libraries that we'll need.\n",
    ":file Testing.Extended ;\n",
    ":file QuickCheck.Extended ;\n",
    ":open QuickCheck ;"
   ]
  },
  {
   "cell_type": "code",
   "execution_count": 6,
   "metadata": {
    "vscode": {
     "languageId": "python"
    }
   },
   "outputs": [
    {
     "name": "stdout",
     "output_type": "stream",
     "text": [
      "parsed: `run-test-eq $`wrap` tests$ (uncurry wrap) [ (10, $sphinx of black quartz judge my vow$) |-> [ $sphinx of$, $black$, $quartz$, $judge my$, $vow$ ], (20, $sphinx of black quartz judge my vow$) |-> [ $sphinx of black$, $quartz judge my vow$ ], (80, $sphinx of black quartz judge my vow$) |-> [ $sphinx of black quartz judge my vow$ ], (80, $ sphinx of black quartz judge my vow $) |-> [ $sphinx of black quartz judge my vow$ ], (80, $sphinx of black   quartz judge my vow$) |-> [ $sphinx of black quartz judge my vow$ ], (10, $$) |-> [{ String }], (0, $hi$) |-> [ $hi$ ], (-20, $hi$) |-> [ $hi$ ], ((10 + 1 / 2), $sphinx of black quartz judge my vow$) |-> [ $sphinx of$, $black$, $quartz$, $judge my$, $vow$ ] ] using Testing`\n",
      "has type: `()`\n",
      "PRINT [`wrap` tests]: Ran 9 cases successfully.\n",
      "linearised: ()"
     ]
    }
   ],
   "source": [
    "-- Let's write a few cases by hand:\n",
    "\n",
    "run-test-eq $`wrap` tests$ (\n",
    "  uncurry wrap\n",
    ") [\n",
    "  -- Some 'happy-path' test cases.\n",
    "  (10, $sphinx of black quartz judge my vow$)   |-> [ $sphinx of$, $black$, $quartz$, $judge my$, $vow$ ],\n",
    "  (20, $sphinx of black quartz judge my vow$)   |-> [ $sphinx of black$, $quartz judge my vow$ ],\n",
    "  (80, $sphinx of black quartz judge my vow$)   |-> [ $sphinx of black quartz judge my vow$ ],\n",
    "  -- Should normalise spaces.\n",
    "  (80, $ sphinx of black quartz judge my vow $) |-> [ $sphinx of black quartz judge my vow$ ],\n",
    "  (80, $sphinx of black   quartz judge my vow$) |-> [ $sphinx of black quartz judge my vow$ ],\n",
    "  -- Edge cases.\n",
    "  (10, $$)                                      |-> [{ String }],\n",
    "  (0, $hi$)                                     |-> [ $hi$ ],\n",
    "  (-20, $hi$)                                   |-> [ $hi$ ],\n",
    "  (10.5, $sphinx of black quartz judge my vow$) |-> [ $sphinx of$, $black$, $quartz$, $judge my$, $vow$ ],\n",
    "]\n",
    "using Testing"
   ]
  },
  {
   "cell_type": "code",
   "execution_count": 7,
   "metadata": {
    "vscode": {
     "languageId": "python"
    }
   },
   "outputs": [
    {
     "name": "stdout",
     "output_type": "stream",
     "text": [
      "parsed: `assert_pred using (QuickCheck.Arb) (pair (natural >>> (_ mod pragmatic-limit)) (list string)) ($output has correct words in correct order$, for all (n : Num) (xs : [ String ]) ~ xs == (xs |> concat-words >> wrap n >> concat-map words)) where pragmatic-limit : Num = 100`\n",
      "has type: `()`\n",
      "PRINT Case 'output has correct words in correct order'\n",
      "PRINT Okay, passed 100 tests.\n",
      "linearised: ()\n",
      "\n",
      "parsed: `assert_pred using (QuickCheck.Arb) (pair (natural >>> (_ mod pragmatic-limit)) (list string >>> concat-words)) ($output lines are no longer than width or single too-long word$, for all (n : Num) (s : String) ~ s |> wrap n >> forall (s : String ~ length-string s =< n or not (s ~=s $ $))) where pragmatic-limit : Num = 100`\n",
      "has type: `()`\n",
      "PRINT Case 'output lines are no longer than width or single too-long word'\n",
      "PRINT Okay, passed 100 tests.\n",
      "linearised: ()\n",
      "\n",
      "parsed: `assert_pred using (QuickCheck.Arb) (pair rational (list string >>> concat-words)) ($wrapping with a rational width equiv to truncation$, for all (q : Num) (s : String) ~ wrap (floor q) s == wrap q s)`\n",
      "has type: `()`\n",
      "PRINT Case 'wrapping with a rational width equiv to truncation'\n",
      "PRINT Okay, passed 100 tests.\n",
      "linearised: ()"
     ]
    }
   ],
   "source": [
    "-- Let's write some QuickCheck cases; they're\n",
    "-- 'self-documenting by design'.\n",
    "\n",
    "assert pred using (QuickCheck.Arb) (pair (natural >>> (_ mod pragmatic-limit)) (list string)) (\n",
    "  $output has correct words in correct order$,\n",
    "  for all (n : Num) (xs : [ String ]) ~\n",
    "    xs == (xs |> concat-words >> wrap n >> concat-map words)\n",
    ")\n",
    "where pragmatic-limit : Num = 100\n",
    "\n",
    "assert pred using (QuickCheck.Arb) (pair (natural >>> (_ mod pragmatic-limit)) (list string >>> concat-words)) (\n",
    "  $output lines are no longer than width or single too-long word$,\n",
    "  for all (n : Num) (s : String) ~\n",
    "    s |>\n",
    "      wrap n >>\n",
    "      forall (s : String ~\n",
    "        length-string s =< n or not (s ~=s $ $)\n",
    "      )\n",
    ")\n",
    "where pragmatic-limit : Num = 100\n",
    "\n",
    "assert pred using (QuickCheck.Arb) (pair rational (list string >>> concat-words)) (\n",
    "  $wrapping with a rational width equiv to truncation$,\n",
    "  for all (q : Num) (s : String) ~\n",
    "    wrap (floor q) s == wrap q s\n",
    ")"
   ]
  },
  {
   "cell_type": "code",
   "execution_count": null,
   "metadata": {},
   "outputs": [],
   "source": []
  }
 ],
 "metadata": {
  "kernelspec": {
   "display_name": "Motmot",
   "language": "",
   "name": "motmot-kernel"
  },
  "language_info": {
   "file_extension": ".txt",
   "mimetype": "text/plain",
   "name": "Motmot"
  }
 },
 "nbformat": 4,
 "nbformat_minor": 4
}
